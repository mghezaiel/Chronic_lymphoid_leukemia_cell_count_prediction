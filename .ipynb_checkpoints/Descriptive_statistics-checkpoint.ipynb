{
 "cells": [
  {
   "cell_type": "code",
   "execution_count": 22,
   "id": "824a70e9-9755-46bf-8fca-cfbf23a67913",
   "metadata": {},
   "outputs": [],
   "source": [
    "import numpy as np \n",
    "import pandas as pd \n",
    "import seaborn as sns \n",
    "import matplotlib.pyplot as plt "
   ]
  },
  {
   "cell_type": "code",
   "execution_count": 7,
   "id": "675992c0-835c-4a7d-b106-f7342e4bce42",
   "metadata": {},
   "outputs": [],
   "source": [
    "data = pd.read_csv(\"llc_spectres/raw_data.csv\", sep = \";\")"
   ]
  },
  {
   "cell_type": "code",
   "execution_count": 12,
   "id": "a73639bc-8e39-479e-9740-ff8cb2948399",
   "metadata": {},
   "outputs": [
    {
     "data": {
      "text/html": [
       "<div>\n",
       "<style scoped>\n",
       "    .dataframe tbody tr th:only-of-type {\n",
       "        vertical-align: middle;\n",
       "    }\n",
       "\n",
       "    .dataframe tbody tr th {\n",
       "        vertical-align: top;\n",
       "    }\n",
       "\n",
       "    .dataframe thead th {\n",
       "        text-align: right;\n",
       "    }\n",
       "</style>\n",
       "<table border=\"1\" class=\"dataframe\">\n",
       "  <thead>\n",
       "    <tr style=\"text-align: right;\">\n",
       "      <th></th>\n",
       "      <th>patient_name</th>\n",
       "      <th>cell_name</th>\n",
       "      <th>cell_type</th>\n",
       "      <th>patient_state</th>\n",
       "      <th>lambda_1</th>\n",
       "      <th>lambda_2</th>\n",
       "      <th>lambda_3</th>\n",
       "      <th>lambda_4</th>\n",
       "      <th>lambda_5</th>\n",
       "      <th>lambda_6</th>\n",
       "      <th>...</th>\n",
       "      <th>lambda_991</th>\n",
       "      <th>lambda_992</th>\n",
       "      <th>lambda_993</th>\n",
       "      <th>lambda_994</th>\n",
       "      <th>lambda_995</th>\n",
       "      <th>lambda_996</th>\n",
       "      <th>lambda_997</th>\n",
       "      <th>lambda_998</th>\n",
       "      <th>lambda_999</th>\n",
       "      <th>spectre</th>\n",
       "    </tr>\n",
       "  </thead>\n",
       "  <tbody>\n",
       "    <tr>\n",
       "      <th>0</th>\n",
       "      <td>P2_ULC80</td>\n",
       "      <td>P2_ULC80_M1_L1_ROI1_C1</td>\n",
       "      <td>B</td>\n",
       "      <td>malade</td>\n",
       "      <td>86.256404</td>\n",
       "      <td>84.116425</td>\n",
       "      <td>83.269485</td>\n",
       "      <td>73.725729</td>\n",
       "      <td>69.172432</td>\n",
       "      <td>58.695397</td>\n",
       "      <td>...</td>\n",
       "      <td>345.330540</td>\n",
       "      <td>343.913899</td>\n",
       "      <td>340.570137</td>\n",
       "      <td>336.092245</td>\n",
       "      <td>329.088472</td>\n",
       "      <td>324.055107</td>\n",
       "      <td>314.110388</td>\n",
       "      <td>319.853392</td>\n",
       "      <td>335.922163</td>\n",
       "      <td>3.0</td>\n",
       "    </tr>\n",
       "    <tr>\n",
       "      <th>1</th>\n",
       "      <td>P2_ULC80</td>\n",
       "      <td>P2_ULC80_M1_L1_ROI1_C1</td>\n",
       "      <td>B</td>\n",
       "      <td>malade</td>\n",
       "      <td>72.367814</td>\n",
       "      <td>70.946072</td>\n",
       "      <td>73.946121</td>\n",
       "      <td>69.342146</td>\n",
       "      <td>66.510280</td>\n",
       "      <td>51.961781</td>\n",
       "      <td>...</td>\n",
       "      <td>329.497317</td>\n",
       "      <td>330.293120</td>\n",
       "      <td>334.239066</td>\n",
       "      <td>336.958602</td>\n",
       "      <td>332.810752</td>\n",
       "      <td>337.041213</td>\n",
       "      <td>329.390541</td>\n",
       "      <td>317.220241</td>\n",
       "      <td>289.615842</td>\n",
       "      <td>2.0</td>\n",
       "    </tr>\n",
       "    <tr>\n",
       "      <th>2</th>\n",
       "      <td>P2_ULC80</td>\n",
       "      <td>P2_ULC80_M1_L1_ROI1_C1</td>\n",
       "      <td>B</td>\n",
       "      <td>malade</td>\n",
       "      <td>36.107124</td>\n",
       "      <td>50.509171</td>\n",
       "      <td>61.251275</td>\n",
       "      <td>60.634079</td>\n",
       "      <td>59.005082</td>\n",
       "      <td>43.374480</td>\n",
       "      <td>...</td>\n",
       "      <td>349.773008</td>\n",
       "      <td>362.963878</td>\n",
       "      <td>377.543505</td>\n",
       "      <td>369.898047</td>\n",
       "      <td>347.525042</td>\n",
       "      <td>324.241500</td>\n",
       "      <td>304.862554</td>\n",
       "      <td>313.958545</td>\n",
       "      <td>356.180451</td>\n",
       "      <td>1.0</td>\n",
       "    </tr>\n",
       "    <tr>\n",
       "      <th>3</th>\n",
       "      <td>P2_ULC80</td>\n",
       "      <td>P2_ULC80_M1_L1_ROI1_C2</td>\n",
       "      <td>B</td>\n",
       "      <td>malade</td>\n",
       "      <td>75.073652</td>\n",
       "      <td>57.880571</td>\n",
       "      <td>53.339291</td>\n",
       "      <td>47.543917</td>\n",
       "      <td>51.896103</td>\n",
       "      <td>40.910901</td>\n",
       "      <td>...</td>\n",
       "      <td>316.498420</td>\n",
       "      <td>323.193044</td>\n",
       "      <td>321.317859</td>\n",
       "      <td>310.282294</td>\n",
       "      <td>326.497336</td>\n",
       "      <td>339.002563</td>\n",
       "      <td>345.054206</td>\n",
       "      <td>372.404114</td>\n",
       "      <td>414.603390</td>\n",
       "      <td>2.0</td>\n",
       "    </tr>\n",
       "    <tr>\n",
       "      <th>4</th>\n",
       "      <td>P2_ULC80</td>\n",
       "      <td>P2_ULC80_M1_L1_ROI1_C2</td>\n",
       "      <td>B</td>\n",
       "      <td>malade</td>\n",
       "      <td>51.591270</td>\n",
       "      <td>54.161436</td>\n",
       "      <td>63.649577</td>\n",
       "      <td>58.364222</td>\n",
       "      <td>61.095665</td>\n",
       "      <td>47.811723</td>\n",
       "      <td>...</td>\n",
       "      <td>324.027328</td>\n",
       "      <td>320.147621</td>\n",
       "      <td>318.339477</td>\n",
       "      <td>310.159782</td>\n",
       "      <td>313.315257</td>\n",
       "      <td>333.873758</td>\n",
       "      <td>339.270424</td>\n",
       "      <td>352.541981</td>\n",
       "      <td>351.914705</td>\n",
       "      <td>1.0</td>\n",
       "    </tr>\n",
       "    <tr>\n",
       "      <th>...</th>\n",
       "      <td>...</td>\n",
       "      <td>...</td>\n",
       "      <td>...</td>\n",
       "      <td>...</td>\n",
       "      <td>...</td>\n",
       "      <td>...</td>\n",
       "      <td>...</td>\n",
       "      <td>...</td>\n",
       "      <td>...</td>\n",
       "      <td>...</td>\n",
       "      <td>...</td>\n",
       "      <td>...</td>\n",
       "      <td>...</td>\n",
       "      <td>...</td>\n",
       "      <td>...</td>\n",
       "      <td>...</td>\n",
       "      <td>...</td>\n",
       "      <td>...</td>\n",
       "      <td>...</td>\n",
       "      <td>...</td>\n",
       "      <td>...</td>\n",
       "    </tr>\n",
       "    <tr>\n",
       "      <th>7192</th>\n",
       "      <td>P1_ULC156</td>\n",
       "      <td>P1_ULC156_M1_L1_ROI2_C43</td>\n",
       "      <td>TNK</td>\n",
       "      <td>sain</td>\n",
       "      <td>79.899533</td>\n",
       "      <td>106.561057</td>\n",
       "      <td>113.545793</td>\n",
       "      <td>116.775563</td>\n",
       "      <td>108.161449</td>\n",
       "      <td>96.394401</td>\n",
       "      <td>...</td>\n",
       "      <td>353.242721</td>\n",
       "      <td>342.554395</td>\n",
       "      <td>338.234888</td>\n",
       "      <td>349.217179</td>\n",
       "      <td>354.196203</td>\n",
       "      <td>357.833444</td>\n",
       "      <td>369.658252</td>\n",
       "      <td>378.589869</td>\n",
       "      <td>394.833234</td>\n",
       "      <td>3.0</td>\n",
       "    </tr>\n",
       "    <tr>\n",
       "      <th>7193</th>\n",
       "      <td>P1_ULC156</td>\n",
       "      <td>P1_ULC156_M1_L1_ROI2_C43</td>\n",
       "      <td>TNK</td>\n",
       "      <td>sain</td>\n",
       "      <td>86.579106</td>\n",
       "      <td>64.318268</td>\n",
       "      <td>53.031208</td>\n",
       "      <td>60.351759</td>\n",
       "      <td>73.065302</td>\n",
       "      <td>72.644425</td>\n",
       "      <td>...</td>\n",
       "      <td>336.118073</td>\n",
       "      <td>345.712805</td>\n",
       "      <td>338.797810</td>\n",
       "      <td>339.772543</td>\n",
       "      <td>345.702042</td>\n",
       "      <td>353.963123</td>\n",
       "      <td>356.027565</td>\n",
       "      <td>351.790370</td>\n",
       "      <td>342.570314</td>\n",
       "      <td>1.0</td>\n",
       "    </tr>\n",
       "    <tr>\n",
       "      <th>7194</th>\n",
       "      <td>P1_ULC156</td>\n",
       "      <td>P1_ULC156_M1_L1_ROI2_C44</td>\n",
       "      <td>B</td>\n",
       "      <td>sain</td>\n",
       "      <td>86.193622</td>\n",
       "      <td>67.082583</td>\n",
       "      <td>62.158704</td>\n",
       "      <td>66.058526</td>\n",
       "      <td>76.819090</td>\n",
       "      <td>76.931321</td>\n",
       "      <td>...</td>\n",
       "      <td>340.361834</td>\n",
       "      <td>348.195007</td>\n",
       "      <td>342.144712</td>\n",
       "      <td>357.687618</td>\n",
       "      <td>361.788879</td>\n",
       "      <td>362.309974</td>\n",
       "      <td>358.883856</td>\n",
       "      <td>355.593313</td>\n",
       "      <td>357.331293</td>\n",
       "      <td>1.0</td>\n",
       "    </tr>\n",
       "    <tr>\n",
       "      <th>7195</th>\n",
       "      <td>P1_ULC156</td>\n",
       "      <td>P1_ULC156_M1_L1_ROI2_C44</td>\n",
       "      <td>B</td>\n",
       "      <td>sain</td>\n",
       "      <td>89.962557</td>\n",
       "      <td>89.573056</td>\n",
       "      <td>90.300399</td>\n",
       "      <td>93.353796</td>\n",
       "      <td>96.570792</td>\n",
       "      <td>104.798885</td>\n",
       "      <td>...</td>\n",
       "      <td>370.213484</td>\n",
       "      <td>370.174949</td>\n",
       "      <td>373.407591</td>\n",
       "      <td>379.524429</td>\n",
       "      <td>382.040521</td>\n",
       "      <td>376.632795</td>\n",
       "      <td>377.164771</td>\n",
       "      <td>366.349519</td>\n",
       "      <td>363.434051</td>\n",
       "      <td>2.0</td>\n",
       "    </tr>\n",
       "    <tr>\n",
       "      <th>7196</th>\n",
       "      <td>P1_ULC156</td>\n",
       "      <td>P1_ULC156_M1_L1_ROI2_C44</td>\n",
       "      <td>B</td>\n",
       "      <td>sain</td>\n",
       "      <td>124.769615</td>\n",
       "      <td>131.251309</td>\n",
       "      <td>133.413285</td>\n",
       "      <td>133.087900</td>\n",
       "      <td>127.784360</td>\n",
       "      <td>120.944110</td>\n",
       "      <td>...</td>\n",
       "      <td>381.837385</td>\n",
       "      <td>372.979719</td>\n",
       "      <td>362.569024</td>\n",
       "      <td>354.209187</td>\n",
       "      <td>365.131340</td>\n",
       "      <td>371.785675</td>\n",
       "      <td>386.872433</td>\n",
       "      <td>400.864853</td>\n",
       "      <td>418.533136</td>\n",
       "      <td>3.0</td>\n",
       "    </tr>\n",
       "  </tbody>\n",
       "</table>\n",
       "<p>7197 rows × 1004 columns</p>\n",
       "</div>"
      ],
      "text/plain": [
       "     patient_name                 cell_name cell_type patient_state  \\\n",
       "0        P2_ULC80    P2_ULC80_M1_L1_ROI1_C1         B        malade   \n",
       "1        P2_ULC80    P2_ULC80_M1_L1_ROI1_C1         B        malade   \n",
       "2        P2_ULC80    P2_ULC80_M1_L1_ROI1_C1         B        malade   \n",
       "3        P2_ULC80    P2_ULC80_M1_L1_ROI1_C2         B        malade   \n",
       "4        P2_ULC80    P2_ULC80_M1_L1_ROI1_C2         B        malade   \n",
       "...           ...                       ...       ...           ...   \n",
       "7192    P1_ULC156  P1_ULC156_M1_L1_ROI2_C43       TNK          sain   \n",
       "7193    P1_ULC156  P1_ULC156_M1_L1_ROI2_C43       TNK          sain   \n",
       "7194    P1_ULC156  P1_ULC156_M1_L1_ROI2_C44         B          sain   \n",
       "7195    P1_ULC156  P1_ULC156_M1_L1_ROI2_C44         B          sain   \n",
       "7196    P1_ULC156  P1_ULC156_M1_L1_ROI2_C44         B          sain   \n",
       "\n",
       "        lambda_1    lambda_2    lambda_3    lambda_4    lambda_5    lambda_6  \\\n",
       "0      86.256404   84.116425   83.269485   73.725729   69.172432   58.695397   \n",
       "1      72.367814   70.946072   73.946121   69.342146   66.510280   51.961781   \n",
       "2      36.107124   50.509171   61.251275   60.634079   59.005082   43.374480   \n",
       "3      75.073652   57.880571   53.339291   47.543917   51.896103   40.910901   \n",
       "4      51.591270   54.161436   63.649577   58.364222   61.095665   47.811723   \n",
       "...          ...         ...         ...         ...         ...         ...   \n",
       "7192   79.899533  106.561057  113.545793  116.775563  108.161449   96.394401   \n",
       "7193   86.579106   64.318268   53.031208   60.351759   73.065302   72.644425   \n",
       "7194   86.193622   67.082583   62.158704   66.058526   76.819090   76.931321   \n",
       "7195   89.962557   89.573056   90.300399   93.353796   96.570792  104.798885   \n",
       "7196  124.769615  131.251309  133.413285  133.087900  127.784360  120.944110   \n",
       "\n",
       "      ...  lambda_991  lambda_992  lambda_993  lambda_994  lambda_995  \\\n",
       "0     ...  345.330540  343.913899  340.570137  336.092245  329.088472   \n",
       "1     ...  329.497317  330.293120  334.239066  336.958602  332.810752   \n",
       "2     ...  349.773008  362.963878  377.543505  369.898047  347.525042   \n",
       "3     ...  316.498420  323.193044  321.317859  310.282294  326.497336   \n",
       "4     ...  324.027328  320.147621  318.339477  310.159782  313.315257   \n",
       "...   ...         ...         ...         ...         ...         ...   \n",
       "7192  ...  353.242721  342.554395  338.234888  349.217179  354.196203   \n",
       "7193  ...  336.118073  345.712805  338.797810  339.772543  345.702042   \n",
       "7194  ...  340.361834  348.195007  342.144712  357.687618  361.788879   \n",
       "7195  ...  370.213484  370.174949  373.407591  379.524429  382.040521   \n",
       "7196  ...  381.837385  372.979719  362.569024  354.209187  365.131340   \n",
       "\n",
       "      lambda_996  lambda_997  lambda_998  lambda_999  spectre  \n",
       "0     324.055107  314.110388  319.853392  335.922163      3.0  \n",
       "1     337.041213  329.390541  317.220241  289.615842      2.0  \n",
       "2     324.241500  304.862554  313.958545  356.180451      1.0  \n",
       "3     339.002563  345.054206  372.404114  414.603390      2.0  \n",
       "4     333.873758  339.270424  352.541981  351.914705      1.0  \n",
       "...          ...         ...         ...         ...      ...  \n",
       "7192  357.833444  369.658252  378.589869  394.833234      3.0  \n",
       "7193  353.963123  356.027565  351.790370  342.570314      1.0  \n",
       "7194  362.309974  358.883856  355.593313  357.331293      1.0  \n",
       "7195  376.632795  377.164771  366.349519  363.434051      2.0  \n",
       "7196  371.785675  386.872433  400.864853  418.533136      3.0  \n",
       "\n",
       "[7197 rows x 1004 columns]"
      ]
     },
     "execution_count": 12,
     "metadata": {},
     "output_type": "execute_result"
    }
   ],
   "source": [
    "data"
   ]
  },
  {
   "cell_type": "markdown",
   "id": "0751b9bc-2575-4956-ae9c-a2da2ac44726",
   "metadata": {},
   "source": [
    "# Descriptive statistics"
   ]
  },
  {
   "cell_type": "markdown",
   "id": "f4d6d189-007c-4fe7-88ed-5e59d04cbfe1",
   "metadata": {},
   "source": [
    "### Nombre de patients"
   ]
  },
  {
   "cell_type": "code",
   "execution_count": 13,
   "id": "0958cf9b-96a6-4ddf-8368-f8583fee9452",
   "metadata": {},
   "outputs": [
    {
     "data": {
      "text/plain": [
       "(33,)"
      ]
     },
     "execution_count": 13,
     "metadata": {},
     "output_type": "execute_result"
    }
   ],
   "source": [
    "data[\"patient_name\"].unique().shape"
   ]
  },
  {
   "cell_type": "markdown",
   "id": "296544cb-5a81-49c6-86e9-affeb5b70c5d",
   "metadata": {},
   "source": [
    "### Nombre de spectres"
   ]
  },
  {
   "cell_type": "code",
   "execution_count": 14,
   "id": "7e25ad87-0464-4178-9c83-3e1576cbb2dd",
   "metadata": {},
   "outputs": [
    {
     "data": {
      "text/plain": [
       "(3,)"
      ]
     },
     "execution_count": 14,
     "metadata": {},
     "output_type": "execute_result"
    }
   ],
   "source": [
    "data[\"spectre\"].unique().shape"
   ]
  },
  {
   "cell_type": "markdown",
   "id": "c5e604cd-b8dc-43b3-b829-84ffa5ac3b00",
   "metadata": {},
   "source": [
    "### Nombre de cellules B"
   ]
  },
  {
   "cell_type": "code",
   "execution_count": 25,
   "id": "4ca55012-c3b0-4130-89e6-71055966fb7e",
   "metadata": {},
   "outputs": [
    {
     "data": {
      "text/plain": [
       "(1077,)"
      ]
     },
     "execution_count": 25,
     "metadata": {},
     "output_type": "execute_result"
    }
   ],
   "source": [
    "data[data[\"cell_type\"]==\"B\"][\"cell_name\"].unique().shape"
   ]
  },
  {
   "cell_type": "markdown",
   "id": "c477abd1-c458-4c07-86d1-b8c2f575c2e8",
   "metadata": {},
   "source": [
    "### Nombre de cellules TNK"
   ]
  },
  {
   "cell_type": "code",
   "execution_count": 19,
   "id": "c56d562c-7d21-4b60-9937-dacdd435b6dc",
   "metadata": {},
   "outputs": [
    {
     "data": {
      "text/plain": [
       "(1491,)"
      ]
     },
     "execution_count": 19,
     "metadata": {},
     "output_type": "execute_result"
    }
   ],
   "source": [
    "data[data[\"cell_type\"]==\"TNK\"][\"cell_name\"].unique().shape"
   ]
  },
  {
   "cell_type": "markdown",
   "id": "ec5997d9-834d-4737-bfa7-365118e4c3a9",
   "metadata": {},
   "source": [
    "### Barplot cellules B/TNK"
   ]
  },
  {
   "cell_type": "code",
   "execution_count": 32,
   "id": "f7807c98-8459-4ac4-bf8d-8cb898334494",
   "metadata": {},
   "outputs": [
    {
     "data": {
      "text/plain": [
       "Text(0.5, 0, 'Cell type')"
      ]
     },
     "execution_count": 32,
     "metadata": {},
     "output_type": "execute_result"
    },
    {
     "data": {
      "image/png": "[encoded data removed]",
      "text/plain": [
       "<Figure size 432x288 with 1 Axes>"
      ]
     },
     "metadata": {
      "needs_background": "light"
     },
     "output_type": "display_data"
    }
   ],
   "source": [
    "cell_counts = {\"cell_type\":[\"B\",\"TNK\"],\n",
    "              \"cell_count\":[len(data[data[\"cell_type\"]==\"B\"][\"cell_name\"].unique()),\n",
    "                           len(data[data[\"cell_type\"]==\"TNK\"][\"cell_name\"].unique())]}\n",
    "f,ax = plt.subplots()\n",
    "sns.barplot(data = cell_counts, x = \"cell_type\", y = \"cell_count\", ax = ax)\n",
    "ax.set_ylabel(\"Cell counts\")\n",
    "ax.set_xlabel(\"Cell type\")"
   ]
  },
  {
   "cell_type": "markdown",
   "id": "cdafbae3-3691-4c49-a94e-7cd97f7b6bae",
   "metadata": {},
   "source": [
    "### Nombre de cellules issues de patients sains"
   ]
  },
  {
   "cell_type": "code",
   "execution_count": 27,
   "id": "0e497e3f-4ec9-463b-8947-cd08e90a1d63",
   "metadata": {},
   "outputs": [
    {
     "data": {
      "text/plain": [
       "(1554,)"
      ]
     },
     "execution_count": 27,
     "metadata": {},
     "output_type": "execute_result"
    }
   ],
   "source": [
    "data[data[\"patient_state\"]==\"sain\"][\"cell_name\"].unique().shape"
   ]
  },
  {
   "cell_type": "markdown",
   "id": "1cad30ef-cb00-4f0e-88ce-ae271b60b700",
   "metadata": {},
   "source": [
    "### Nombre de cellules issues de patients LLC"
   ]
  },
  {
   "cell_type": "code",
   "execution_count": 28,
   "id": "6bae2d9d-2a87-47d6-a91f-e1f3663662ab",
   "metadata": {},
   "outputs": [
    {
     "data": {
      "text/plain": [
       "(1014,)"
      ]
     },
     "execution_count": 28,
     "metadata": {},
     "output_type": "execute_result"
    }
   ],
   "source": [
    "data[data[\"patient_state\"]==\"malade\"][\"cell_name\"].unique().shape"
   ]
  },
  {
   "cell_type": "markdown",
   "id": "fca2fbdc-6198-4fc2-a2b1-b3ef6a7782ee",
   "metadata": {},
   "source": [
    "### Barplot cellules patients saint/LLC"
   ]
  },
  {
   "cell_type": "code",
   "execution_count": 34,
   "id": "4a8c758c-3b39-498e-81b5-69a16932d807",
   "metadata": {},
   "outputs": [
    {
     "data": {
      "text/plain": [
       "Text(0.5, 0, 'Patients')"
      ]
     },
     "execution_count": 34,
     "metadata": {},
     "output_type": "execute_result"
    },
    {
     "data": {
      "image/png": "[encoded data removed]",
      "text/plain": [
       "<Figure size 432x288 with 1 Axes>"
      ]
     },
     "metadata": {
      "needs_background": "light"
     },
     "output_type": "display_data"
    }
   ],
   "source": [
    "cell_counts = {\"patients\":[\"sain\",\"malade\"],\n",
    "              \"cell_count\":[len(data[data[\"patient_state\"]==\"sain\"][\"cell_name\"].unique()),\n",
    "                           len(data[data[\"patient_state\"]==\"malade\"][\"cell_name\"].unique())]}\n",
    "f,ax = plt.subplots()\n",
    "sns.barplot(data = cell_counts, x = \"patients\", y = \"cell_count\", ax = ax)\n",
    "ax.set_ylabel(\"Cell counts\")\n",
    "ax.set_xlabel(\"Patients\")"
   ]
  },
  {
   "cell_type": "markdown",
   "id": "fa3c351e-3149-425d-86ed-23b7337d0592",
   "metadata": {},
   "source": [
    "### Nombre de cellules B/TNK par type de patient"
   ]
  },
  {
   "cell_type": "code",
   "execution_count": 45,
   "id": "c6c56565-9b16-49a9-8fcc-cd4c06854d58",
   "metadata": {},
   "outputs": [
    {
     "data": {
      "text/plain": [
       "patient_state  cell_type  cell_name               \n",
       "malade         B          P2_ULC102_M1_L1_ROI1_C14    3003\n",
       "                          P2_ULC102_M1_L1_ROI1_C15    2002\n",
       "                          P2_ULC102_M1_L1_ROI1_C17    1001\n",
       "                          P2_ULC102_M1_L1_ROI1_C20    2002\n",
       "                          P2_ULC102_M1_L1_ROI1_C23    1001\n",
       "                                                      ... \n",
       "sain           TNK        P1_ULC98_M1_L1_ROI4_C5      3003\n",
       "                          P1_ULC98_M1_L1_ROI4_C6      3003\n",
       "                          P1_ULC98_M1_L1_ROI4_C7      3003\n",
       "                          P1_ULC98_M1_L1_ROI4_C8      3003\n",
       "                          P1_ULC98_M1_L1_ROI4_C9      3003\n",
       "Length: 2568, dtype: int64"
      ]
     },
     "execution_count": 45,
     "metadata": {},
     "output_type": "execute_result"
    }
   ],
   "source": [
    "data.groupby([\"patient_state\",\"cell_type\",\"cell_name\"]).count().sum(axis = 1)"
   ]
  }
 ],
 "metadata": {
  "kernelspec": {
   "display_name": "Python 3",
   "language": "python",
   "name": "python3"
  },
  "language_info": {
   "codemirror_mode": {
    "name": "ipython",
    "version": 3
   },
   "file_extension": ".py",
   "mimetype": "text/x-python",
   "name": "python",
   "nbconvert_exporter": "python",
   "pygments_lexer": "ipython3",
   "version": "3.8.10"
  }
 },
 "nbformat": 4,
 "nbformat_minor": 5
}
